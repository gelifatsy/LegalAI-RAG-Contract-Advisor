{
 "cells": [
  {
   "cell_type": "code",
   "execution_count": 4,
   "metadata": {},
   "outputs": [],
   "source": [
    "from langchain.chains import RetrievalQA\n",
    "from langchain.document_loaders import TextLoader\n",
    "from langchain.embeddings.openai import OpenAIEmbeddings\n",
    "from langchain.llms import OpenAI\n",
    "from langchain_experimental.text_splitter import SemanticChunker\n",
    "from langchain.vectorstores import Chroma\n",
    "from langchain.document_loaders import Docx2txtLoader\n",
    "import os\n"
   ]
  },
  {
   "cell_type": "code",
   "execution_count": 2,
   "metadata": {},
   "outputs": [],
   "source": [
    "from dotenv import load_dotenv, find_dotenv\n",
    "_ = load_dotenv(find_dotenv()) # read local .env file\n",
    "import openai\n",
    "openai.api_key = os.environ['OPENAI_API_KEY']\n"
   ]
  },
  {
   "cell_type": "code",
   "execution_count": null,
   "metadata": {},
   "outputs": [],
   "source": [
    "# Load file\n",
    "document_path = \"../data/Evaluation Sets/Raptor Contract.docx\"\n",
    "loader = Docx2txtLoader(document_path)\n",
    "documents = loader.load()\n",
    "documents\n"
   ]
  },
  {
   "cell_type": "code",
   "execution_count": 7,
   "metadata": {},
   "outputs": [
    {
     "name": "stderr",
     "output_type": "stream",
     "text": [
      "/home/elias/miniconda/envs/langc/lib/python3.11/site-packages/langchain_core/_api/deprecation.py:117: LangChainDeprecationWarning: The class `langchain_community.embeddings.openai.OpenAIEmbeddings` was deprecated in langchain-community 0.1.0 and will be removed in 0.2.0. An updated version of the class exists in the langchain-openai package and should be used instead. To use it run `pip install -U langchain-openai` and import as `from langchain_openai import OpenAIEmbeddings`.\n",
      "  warn_deprecated(\n"
     ]
    }
   ],
   "source": [
    "text_splitter = SemanticChunker(OpenAIEmbeddings())\n",
    "texts = text_splitter.split_documents(documents)"
   ]
  },
  {
   "cell_type": "code",
   "execution_count": null,
   "metadata": {},
   "outputs": [],
   "source": [
    "texts"
   ]
  },
  {
   "cell_type": "code",
   "execution_count": 8,
   "metadata": {},
   "outputs": [],
   "source": [
    "embeddings = OpenAIEmbeddings()\n",
    "docsearch = Chroma.from_documents(texts, embeddings)"
   ]
  },
  {
   "cell_type": "code",
   "execution_count": 14,
   "metadata": {},
   "outputs": [],
   "source": [
    "# Retrieval Chains:\n",
    "qa = RetrievalQA.from_chain_type(llm=OpenAI(), chain_type=\"refine\", retriever=docsearch.as_retriever())\n"
   ]
  },
  {
   "cell_type": "code",
   "execution_count": null,
   "metadata": {},
   "outputs": [],
   "source": [
    "query = \"How much is the escrow amount??\"\n",
    "qa.run(query)"
   ]
  },
  {
   "cell_type": "code",
   "execution_count": 16,
   "metadata": {},
   "outputs": [
    {
     "data": {
      "text/plain": [
       "\"\\n\\nThe purpose of the escrow in this specific situation is to hold the Escrow Amount, which will be used to satisfy any obligations of the Company Securityholders as outlined in Section 2.07(f) of the Agreement. This includes paying off any remaining debts and expenses related to the transaction, as well as potentially providing compensation to current or former employees of the Acquired Companies. The escrow will also serve as a means for the Buyer and Sellers' Representative to ensure that all necessary documents and agreements are executed and delivered at the Closing. Additionally, the escrow will hold the Vested Options and Warrants, which will be cancelled and acknowledged at the Closing. This escrow serves as a mechanism for resolving any disputes related to the final determination of the Closing Debt Amount, Closing Cash Amount, and Seller Transaction Expenses. It also allows for a purchase price adjustment based on the final figures determined in the Final Closing Statement. The escrow also provides a means for the Buyer to withhold any necessary taxes from payments to the Company Securityholders and for the payment of employee bonuses. Furthermore, the escrow protects the interests of the Sellers and the Buyer by providing a designated agent, known as the Sellers' Representative, to act on behalf of all the Sellers and make decisions in their best\""
      ]
     },
     "execution_count": 16,
     "metadata": {},
     "output_type": "execute_result"
    }
   ],
   "source": [
    "query = \"What is the purpose of the escrow?\"\n",
    "qa.run(query)\n"
   ]
  },
  {
   "cell_type": "code",
   "execution_count": 17,
   "metadata": {},
   "outputs": [
    {
     "data": {
      "text/plain": [
       "\"\\n\\nYes, there are conditions to the closing. These conditions include the payment of the Closing Cash Consideration, Warrant Closing Cash Consideration, Closing Vested Options Cash Consideration, and Employee Closing Bonus Amount, as well as the deposit of the Escrow Amount and the delivery of certain documents and signatures. Additionally, the Estimated Purchase Price may be adjusted based on the final determination of the Closing Debt Amount, Closing Cash Amount, and Seller Transaction Expenses, as set forth in the Final Closing Statement. Any discrepancies or disputes regarding these amounts will be resolved through a joint review process and the decision of an independent accounting firm. The Escrow Amount will also be held and released according to the terms of the Escrow Agreement, with any remaining balance being distributed to the Company Securityholders. The treatment of Options and Warrants will also be addressed at closing, with Vested Optionsholders and Warrantholders providing acknowledgement of the cancellation of their respective options and warrants. Finally, there may be withholding of taxes from the Closing Cash Payment and other payments in accordance with tax laws and the Paying Agent Undertaking. The Employee Closing Bonus Amount will also be paid out through the Company's payroll system to designated individuals. In addition, the Coronavirus Aid, Relief, and Economic Security Act and\""
      ]
     },
     "execution_count": 17,
     "metadata": {},
     "output_type": "execute_result"
    }
   ],
   "source": [
    "query = \"Are there any conditions to the closing?\"\n",
    "qa.run(query)"
   ]
  }
 ],
 "metadata": {
  "kernelspec": {
   "display_name": "langc",
   "language": "python",
   "name": "python3"
  },
  "language_info": {
   "codemirror_mode": {
    "name": "ipython",
    "version": 3
   },
   "file_extension": ".py",
   "mimetype": "text/x-python",
   "name": "python",
   "nbconvert_exporter": "python",
   "pygments_lexer": "ipython3",
   "version": "3.11.7"
  }
 },
 "nbformat": 4,
 "nbformat_minor": 2
}
