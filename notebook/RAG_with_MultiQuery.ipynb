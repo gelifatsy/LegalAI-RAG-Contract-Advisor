{
 "cells": [
  {
   "cell_type": "code",
   "execution_count": 1,
   "metadata": {},
   "outputs": [],
   "source": [
    "import sys, os"
   ]
  },
  {
   "cell_type": "code",
   "execution_count": 2,
   "metadata": {},
   "outputs": [],
   "source": [
    "sys.path.append(os.path.abspath(os.path.join('../scripts')))"
   ]
  },
  {
   "cell_type": "code",
   "execution_count": 4,
   "metadata": {},
   "outputs": [],
   "source": [
    "\n",
    "from langchain.text_splitter import RecursiveCharacterTextSplitter\n",
    "from langchain_community.document_loaders import TextLoader\n",
    "from langchain_community.embeddings import CohereEmbeddings\n",
    "from langchain_community.vectorstores import FAISS\n",
    "\n",
    "from langchain.retrievers import ContextualCompressionRetriever\n",
    "from langchain.retrievers.document_compressors import CohereRerank, FlashrankRerank\n",
    "from langchain_community.llms import Cohere\n",
    "from langchain.chains import RetrievalQA\n",
    "from langchain.document_loaders import TextLoader\n",
    "from langchain.embeddings.openai import OpenAIEmbeddings\n",
    "from langchain.llms import OpenAI\n",
    "from langchain.text_splitter import CharacterTextSplitter, RecursiveCharacterTextSplitter\n",
    "from langchain_experimental.text_splitter import SemanticChunker\n",
    "from langchain.vectorstores import Chroma\n",
    "from langchain.document_loaders import Docx2txtLoader\n",
    "\n"
   ]
  },
  {
   "cell_type": "code",
   "execution_count": 5,
   "metadata": {},
   "outputs": [
    {
     "name": "stderr",
     "output_type": "stream",
     "text": [
      "/home/elias/miniconda/envs/langc/lib/python3.11/site-packages/langchain_core/_api/deprecation.py:117: LangChainDeprecationWarning: The class `langchain_community.llms.openai.OpenAI` was deprecated in langchain-community 0.0.10 and will be removed in 0.2.0. An updated version of the class exists in the langchain-openai package and should be used instead. To use it run `pip install -U langchain-openai` and import as `from langchain_openai import OpenAI`.\n",
      "  warn_deprecated(\n"
     ]
    }
   ],
   "source": [
    "from RAG_utils import load_document, load_documents_from_folder"
   ]
  },
  {
   "cell_type": "code",
   "execution_count": 26,
   "metadata": {},
   "outputs": [],
   "source": [
    "import getpass\n",
    "import os\n",
    "\n",
    "os.environ[\"COHERE_API_KEY\"] = getpass.getpass(\"Cohere API Key:\")"
   ]
  },
  {
   "cell_type": "code",
   "execution_count": 6,
   "metadata": {},
   "outputs": [],
   "source": [
    "def pretty_print_docs(docs):\n",
    "    print(\n",
    "        f\"\\n{'-' * 100}\\n\".join(\n",
    "            [f\"Document {i+1}:\\n\\n\" + d.page_content for i, d in enumerate(docs)]\n",
    "        )\n",
    "    )"
   ]
  },
  {
   "cell_type": "code",
   "execution_count": 7,
   "metadata": {},
   "outputs": [],
   "source": [
    "folder_path = \"../data/Evaluation Sets/contract\"  # Replace with your folder path\n",
    "all_documents = load_documents_from_folder(folder_path)"
   ]
  },
  {
   "cell_type": "code",
   "execution_count": null,
   "metadata": {},
   "outputs": [],
   "source": [
    "all_documents"
   ]
  },
  {
   "cell_type": "code",
   "execution_count": 8,
   "metadata": {},
   "outputs": [],
   "source": [
    "text_splitter = RecursiveCharacterTextSplitter(chunk_size=700, chunk_overlap=50)\n",
    "split_texts = text_splitter.split_documents(all_documents)"
   ]
  },
  {
   "cell_type": "code",
   "execution_count": 9,
   "metadata": {},
   "outputs": [
    {
     "data": {
      "text/plain": [
       "466"
      ]
     },
     "execution_count": 9,
     "metadata": {},
     "output_type": "execute_result"
    }
   ],
   "source": [
    "len(split_texts)"
   ]
  },
  {
   "cell_type": "code",
   "execution_count": 10,
   "metadata": {},
   "outputs": [
    {
     "name": "stderr",
     "output_type": "stream",
     "text": [
      "/home/elias/miniconda/envs/langc/lib/python3.11/site-packages/langchain_core/_api/deprecation.py:117: LangChainDeprecationWarning: The class `langchain_community.embeddings.openai.OpenAIEmbeddings` was deprecated in langchain-community 0.1.0 and will be removed in 0.2.0. An updated version of the class exists in the langchain-openai package and should be used instead. To use it run `pip install -U langchain-openai` and import as `from langchain_openai import OpenAIEmbeddings`.\n",
      "  warn_deprecated(\n"
     ]
    }
   ],
   "source": [
    "vectordb=FAISS.from_documents(split_texts, OpenAIEmbeddings())"
   ]
  },
  {
   "cell_type": "code",
   "execution_count": 13,
   "metadata": {},
   "outputs": [
    {
     "name": "stderr",
     "output_type": "stream",
     "text": [
      "/home/elias/miniconda/envs/langc/lib/python3.11/site-packages/langchain_core/_api/deprecation.py:117: LangChainDeprecationWarning: The class `langchain_community.embeddings.openai.OpenAIEmbeddings` was deprecated in langchain-community 0.1.0 and will be removed in 0.2.0. An updated version of the class exists in the langchain-openai package and should be used instead. To use it run `pip install -U langchain-openai` and import as `from langchain_openai import OpenAIEmbeddings`.\n",
      "  warn_deprecated(\n"
     ]
    }
   ],
   "source": [
    "# retriever = FAISS.from_documents(split_texts, OpenAIEmbeddings()).as_retriever(\n",
    "#     search_kwargs={\"k\": 5}\n",
    "# )"
   ]
  },
  {
   "cell_type": "code",
   "execution_count": 11,
   "metadata": {},
   "outputs": [],
   "source": [
    "from langchain.retrievers.multi_query import MultiQueryRetriever\n",
    "from langchain_openai import ChatOpenAI"
   ]
  },
  {
   "cell_type": "code",
   "execution_count": 27,
   "metadata": {},
   "outputs": [],
   "source": [
    "retriever = vectordb.as_retriever()"
   ]
  },
  {
   "cell_type": "code",
   "execution_count": 28,
   "metadata": {},
   "outputs": [],
   "source": [
    "compressor = CohereRerank()\n",
    "compression_retriever = ContextualCompressionRetriever(\n",
    "    base_compressor=compressor, base_retriever=retriever\n",
    ")"
   ]
  },
  {
   "cell_type": "code",
   "execution_count": 29,
   "metadata": {},
   "outputs": [],
   "source": [
    "llm = ChatOpenAI(temperature=0)\n",
    "retriever_from_llm = MultiQueryRetriever.from_llm(\n",
    "    retriever=compression_retriever, llm=llm\n",
    ")"
   ]
  },
  {
   "cell_type": "code",
   "execution_count": 13,
   "metadata": {},
   "outputs": [],
   "source": [
    "import logging\n",
    "\n",
    "logging.basicConfig()\n",
    "logging.getLogger(\"langchain.retrievers.multi_query\").setLevel(logging.INFO)"
   ]
  },
  {
   "cell_type": "code",
   "execution_count": 14,
   "metadata": {},
   "outputs": [],
   "source": [
    "question = \"How much is the escrow amount?\""
   ]
  },
  {
   "cell_type": "code",
   "execution_count": 30,
   "metadata": {},
   "outputs": [
    {
     "name": "stderr",
     "output_type": "stream",
     "text": [
      "INFO:langchain.retrievers.multi_query:Generated queries: ['1. Can you explain the process of issuing a termination notice?', '2. How is a termination notice typically handled in legal agreements?', '3. What are the key components of a termination notice and how is it delivered to the relevant parties?']\n"
     ]
    },
    {
     "data": {
      "text/plain": [
       "9"
      ]
     },
     "execution_count": 30,
     "metadata": {},
     "output_type": "execute_result"
    }
   ],
   "source": [
    "unique_docs = retriever_from_llm.get_relevant_documents(query=question)\n",
    "len(unique_docs)"
   ]
  },
  {
   "cell_type": "code",
   "execution_count": 16,
   "metadata": {},
   "outputs": [
    {
     "data": {
      "text/plain": [
       "[Document(page_content='Escrow.', metadata={'source': '../data/Evaluation Sets/contract/Raptor Contract.docx'}),\n",
       " Document(page_content='“Equity Interest” means, with respect to any Person, (a)\\xa0any capital stock, partnership or membership interest, unit of participation or other similar interest (however designated) in such Person and (b)\\xa0any option, warrant, purchase right, conversion right, exchange right or other Contractual Obligation which would entitle any other Person to acquire any such interest in such Person or otherwise entitle any other Person to share in the equity, profits, earnings, losses or gains of such Person (including stock appreciation, phantom stock, profit participation or other similar rights).\\n\\n“Escrow Amount” means, $1,000,000', metadata={'source': '../data/Evaluation Sets/contract/Raptor Contract.docx'}),\n",
       " Document(page_content='“Escrow Amount” means, $1,000,000\\n\\n “Facilities” means any buildings, plants, improvements or structures located on the Real Property.', metadata={'source': '../data/Evaluation Sets/contract/Raptor Contract.docx'}),\n",
       " Document(page_content='At Closing, Buyer will deposit the Escrow Amount in escrow on behalf of the Sellers in accordance with the Escrow Agreement.  The Escrow Amount shall be held and, subject to Section 2.07, released to the Company Securityholders in accordance with the provisions of the Escrow Agreement with the Company Securityholders being entitled to share in such released amounts in accordance with their Pro Rata Percentages.  From and after the Closing, Buyer and the Sellers’ Representative will direct the Escrow Agent to disburse payments from the Escrow Account in accordance with the purchase price adjustment provisions of this Agreement and the terms of the Escrow Agreement including: (a) in the case', metadata={'source': '../data/Evaluation Sets/contract/Raptor Contract.docx'}),\n",
       " Document(page_content='applicable under this Agreement and the Escrow Agreement) that there is a good faith dispute, they will provide joint payment instructions to the Escrow Agent to direct the appropriate disbursement promptly upon the resolution, in accordance with the provisions of this Agreement, of such dispute.', metadata={'source': '../data/Evaluation Sets/contract/Raptor Contract.docx'}),\n",
       " Document(page_content='the Escrow Agreement including: (a) in the case of any disbursement that is required by the terms of this Agreement and as to which there is no dispute (or as to which the disputing party has failed to notify the Escrow Agent and the other parties of its dispute in accordance with any applicable requirements under this Agreement and the Escrow Agreement), they will provide prompt joint payment instructions directing the Escrow Agent to make such disbursement and (b) in the case of a disbursement as to which either the Buyer or the Seller’s Representative has notified the other and the Escrow Agent (in accordance with any notice and timing requirements applicable under this Agreement and the', metadata={'source': '../data/Evaluation Sets/contract/Raptor Contract.docx'}),\n",
       " Document(page_content='At the Closing, Buyer shall deposit the Escrow Amount with the Escrow Agent to be held in a separate account (the “Escrow Account”).  The Escrow Account shall be governed by the terms of the Escrow Agreement.  All funds contained in the Escrow Account shall be held in escrow and shall be available solely for the purpose of satisfying obligations of the Company Securityholders, if any, as provided in Section 2.07(f).\\n\\nClosing Deliveries.\\n\\nBuyer Closing Deliveries.  Upon the terms and subject to the conditions set forth in this Agreement, the Buyer shall deliver or cause to be delivered at the Closing the following:', metadata={'source': '../data/Evaluation Sets/contract/Raptor Contract.docx'})]"
      ]
     },
     "execution_count": 16,
     "metadata": {},
     "output_type": "execute_result"
    }
   ],
   "source": [
    "unique_docs"
   ]
  },
  {
   "cell_type": "code",
   "execution_count": 18,
   "metadata": {},
   "outputs": [],
   "source": [
    "chain = RetrievalQA.from_chain_type(\n",
    "    llm=OpenAI(temperature=0), retriever=retriever_from_llm\n",
    ")"
   ]
  },
  {
   "cell_type": "code",
   "execution_count": 41,
   "metadata": {},
   "outputs": [],
   "source": [
    "question=\" Is the Advisor entitled to social benefits? \""
   ]
  },
  {
   "cell_type": "code",
   "execution_count": 42,
   "metadata": {},
   "outputs": [
    {
     "name": "stderr",
     "output_type": "stream",
     "text": [
      "INFO:langchain.retrievers.multi_query:Generated queries: ['1. What social benefits is the Advisor entitled to?', '2. Are there any social benefits that the Advisor can claim?', '3. Can the Advisor receive any social benefits?']\n"
     ]
    },
    {
     "data": {
      "text/plain": [
       "{'query': ' Is the Advisor entitled to social benefits? ',\n",
       " 'result': ' No, the Advisor is not entitled to social benefits as they are an independent contractor and not an employee of the Company.'}"
      ]
     },
     "execution_count": 42,
     "metadata": {},
     "output_type": "execute_result"
    }
   ],
   "source": [
    "chain({\"query\": question})"
   ]
  }
 ],
 "metadata": {
  "kernelspec": {
   "display_name": "langc",
   "language": "python",
   "name": "python3"
  },
  "language_info": {
   "codemirror_mode": {
    "name": "ipython",
    "version": 3
   },
   "file_extension": ".py",
   "mimetype": "text/x-python",
   "name": "python",
   "nbconvert_exporter": "python",
   "pygments_lexer": "ipython3",
   "version": "3.11.7"
  }
 },
 "nbformat": 4,
 "nbformat_minor": 2
}
