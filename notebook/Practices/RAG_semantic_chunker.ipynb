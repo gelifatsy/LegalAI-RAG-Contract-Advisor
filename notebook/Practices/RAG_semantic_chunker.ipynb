{
 "cells": [
  {
   "cell_type": "code",
   "execution_count": 1,
   "metadata": {},
   "outputs": [],
   "source": [
    "from langchain.chains import RetrievalQA\n",
    "from langchain.document_loaders import TextLoader\n",
    "from langchain.embeddings.openai import OpenAIEmbeddings\n",
    "from langchain.llms import OpenAI\n",
    "from langchain_experimental.text_splitter import SemanticChunker\n",
    "from langchain.vectorstores import Chroma\n",
    "from langchain.document_loaders import Docx2txtLoader\n",
    "import os\n"
   ]
  },
  {
   "cell_type": "code",
   "execution_count": 2,
   "metadata": {},
   "outputs": [],
   "source": [
    "from dotenv import load_dotenv, find_dotenv\n",
    "_ = load_dotenv(find_dotenv()) # read local .env file\n",
    "import openai\n",
    "openai.api_key = os.environ['OPENAI_API_KEY']\n"
   ]
  },
  {
   "cell_type": "code",
   "execution_count": null,
   "metadata": {},
   "outputs": [],
   "source": [
    "# Load file\n",
    "document_path = \"../data/Evaluation Sets/Raptor Contract.docx\"\n",
    "loader = Docx2txtLoader(document_path)\n",
    "documents = loader.load()\n",
    "documents\n"
   ]
  },
  {
   "cell_type": "code",
   "execution_count": null,
   "metadata": {},
   "outputs": [],
   "source": [
    "text_splitter = SemanticChunker(OpenAIEmbeddings())\n",
    "texts = text_splitter.split_documents(documents)"
   ]
  },
  {
   "cell_type": "code",
   "execution_count": null,
   "metadata": {},
   "outputs": [],
   "source": [
    "texts"
   ]
  },
  {
   "cell_type": "code",
   "execution_count": 6,
   "metadata": {},
   "outputs": [],
   "source": [
    "embeddings = OpenAIEmbeddings()\n",
    "docsearch = Chroma.from_documents(texts, embeddings)"
   ]
  },
  {
   "cell_type": "code",
   "execution_count": null,
   "metadata": {},
   "outputs": [],
   "source": [
    "# Retrieval Chains:\n",
    "qa = RetrievalQA.from_chain_type(llm=OpenAI(), chain_type=\"refine\", retriever=docsearch.as_retriever())\n"
   ]
  },
  {
   "cell_type": "code",
   "execution_count": 8,
   "metadata": {},
   "outputs": [
    {
     "name": "stderr",
     "output_type": "stream",
     "text": [
      "/home/elias/miniconda/envs/langc/lib/python3.11/site-packages/langchain_core/_api/deprecation.py:117: LangChainDeprecationWarning: The function `run` was deprecated in LangChain 0.1.0 and will be removed in 0.2.0. Use invoke instead.\n",
      "  warn_deprecated(\n"
     ]
    },
    {
     "data": {
      "text/plain": [
       "\"\\n\\nThe specific amount of the escrow amount is not mentioned in the given context, as it is subject to adjustment based on various factors such as the Closing Cash Consideration, the Warrant Closing Cash Consideration, the Closing Vested Options Cash Consideration, and the Employee Closing Bonus Amount. However, it is mentioned that the Estimated Closing Statement, which includes the Escrow Amount, will be provided at the Closing and the Escrow Amount will be deposited with the Escrow Agent to be held in a separate account. The amount of the escrow amount can be determined at the Closing based on various factors and applicable laws, including any applicable guidance related to the ongoing COVID-19 pandemic. Additionally, the Sellers' Representative will deliver written resignations of any officers and directors requested by the Buyer, as well as payoff and lien release letters for any included indebtedness. The Sellers' Representative will also provide electronic copies of all documentation in the data room and a copy of the Escrow Agreement, all of which may impact the final amount of the escrow amount.\""
      ]
     },
     "execution_count": 8,
     "metadata": {},
     "output_type": "execute_result"
    }
   ],
   "source": [
    "query = \"How much is the escrow amount??\"\n",
    "qa.run(query)"
   ]
  },
  {
   "cell_type": "code",
   "execution_count": 9,
   "metadata": {},
   "outputs": [
    {
     "data": {
      "text/plain": [
       "\"\\n\\nThe purpose of the escrow in this specific scenario is to hold the funds from the sale of shares and warrants in a separate account, to be used for the payment of any obligations of the company securityholders. This includes the repayment of any outstanding debts, transaction expenses, and the termination of any encumbrances on the company's assets. The escrow also ensures that the funds are available for the designated purpose and are not used for any other purposes. Additionally, it provides a mechanism for the cancellation of vested options and warrants held by shareholders. In this case, the escrow is also used to adjust the purchase price based on the final determination of the Closing Debt Amount, Closing Cash Amount, and Seller Transaction Expenses. The escrow amount is held jointly by the Buyer and the Sellers' Representative and will be released to the Company Securityholders in accordance with their Pro Rata Percentages. It also serves as the Buyer's exclusive remedy for any claims related to the purchase price adjustments. The escrow also allows for withholding any necessary taxes from the payments to the Company Securityholders, in accordance with applicable laws and regulations. Additionally, the escrow is used to distribute the Employee Closing Bonus Amount to the designated beneficiaries. The escrow also provides for survival and recourse limitations for\""
      ]
     },
     "execution_count": 9,
     "metadata": {},
     "output_type": "execute_result"
    }
   ],
   "source": [
    "query = \"What is the purpose of the escrow?\"\n",
    "qa.run(query)\n"
   ]
  },
  {
   "cell_type": "code",
   "execution_count": 11,
   "metadata": {},
   "outputs": [
    {
     "data": {
      "text/plain": [
       "\"\\n\\nYes, there are conditions to the closing, as stated in the context information. These conditions include the preparation and exchange of statements outlining the final determination of the Closing Debt Amount, Closing Cash Amount, and Seller Transaction Expenses, as well as the resolution of any disputes related to these amounts. The Purchase Price will be adjusted based on the final figures determined in the Final Closing Statement. The Escrow Amount will also be held and released in accordance with the purchase price adjustment provisions. Additionally, there are withholding rights in place for certain taxes and payments, and a provision for Employee Closing Bonus payments.\\nIn addition, both the Buyer and Sellers' Representative have specific deliveries to make at the Closing, including the payment of the Closing Cash Amount, execution of Employment Agreements and other Ancillary Agreements, resignation of officers and directors, and provision of documentation and certificates. There are also specific instructions for the treatment of Options and Warrants held by Vested Optionsholders and Warrantholders. These conditions and deliveries must be satisfied in order for the closing to occur.\\nFurthermore, there are specific provisions in place related to the COVID-19 pandemic, including any applicable guidance and laws such as the CARES Act, that may impact the Closing Cash Consideration and Change of Control Payments. These\""
      ]
     },
     "execution_count": 11,
     "metadata": {},
     "output_type": "execute_result"
    }
   ],
   "source": [
    "query = \"Are there any conditions to the closing?\"\n",
    "qa.run(query)"
   ]
  },
  {
   "cell_type": "code",
   "execution_count": null,
   "metadata": {},
   "outputs": [],
   "source": []
  }
 ],
 "metadata": {
  "kernelspec": {
   "display_name": "langc",
   "language": "python",
   "name": "python3"
  },
  "language_info": {
   "codemirror_mode": {
    "name": "ipython",
    "version": 3
   },
   "file_extension": ".py",
   "mimetype": "text/x-python",
   "name": "python",
   "nbconvert_exporter": "python",
   "pygments_lexer": "ipython3",
   "version": "3.11.7"
  }
 },
 "nbformat": 4,
 "nbformat_minor": 2
}
